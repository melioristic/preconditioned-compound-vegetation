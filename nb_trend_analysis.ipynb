{
 "cells": [
  {
   "cell_type": "code",
   "execution_count": 1,
   "metadata": {},
   "outputs": [],
   "source": [
    "import pandas as pd\n",
    "import pymannkendall as mk"
   ]
  },
  {
   "cell_type": "code",
   "execution_count": 4,
   "metadata": {},
   "outputs": [
    {
     "name": "stdout",
     "output_type": "stream",
     "text": [
      "Region\n",
      "Mann_Kendall_Test(trend='increasing', h=True, p=0.0, z=8.825477150935155, Tau=1.0, s=703.0, var_s=6327.0, slope=1.0, intercept=1983.0)\n",
      "C.North-America\n",
      "Mann_Kendall_Test(trend='no trend', h=False, p=0.49707604951988626, z=0.6790975582306363, Tau=0.07823613086770982, s=55.0, var_s=6323.0, slope=0.00021777003484319983, intercept=0.022495644599303203)\n",
      "E.Asia\n",
      "Mann_Kendall_Test(trend='no trend', h=False, p=0.6874157535098775, z=-0.40236455261563614, Tau=-0.04694167852062589, s=-33.0, var_s=6325.0, slope=-0.00013036327900415868, intercept=0.024319436830634686)\n",
      "E.Europe\n",
      "Mann_Kendall_Test(trend='no trend', h=False, p=0.9899685427717326, z=-0.012572898403508172, Tau=-0.002844950213371266, s=-2.0, var_s=6326.0, slope=-4.602271681300002e-06, intercept=0.01901658658713935)\n",
      "E.North-America\n",
      "Mann_Kendall_Test(trend='no trend', h=False, p=0.092058968036413, z=-1.684635239637195, Tau=-0.19203413940256045, s=-135.0, var_s=6327.0, slope=-0.0005483257786226072, intercept=0.03160184237461618)\n",
      "E.Siberia\n",
      "Mann_Kendall_Test(trend='no trend', h=False, p=0.6238911772497975, z=0.49034303773681875, Tau=0.05689900426742532, s=40.0, var_s=6326.0, slope=0.00017238250771183338, intercept=0.014598076574124683)\n",
      "Mediterranean\n",
      "Mann_Kendall_Test(trend='no trend', h=False, p=0.1481458093820318, z=1.4461119326300884, Tau=0.16500711237553342, s=116.0, var_s=6324.0, slope=0.0004385334291876346, intercept=0.012541337167505358)\n",
      "N.Central-America\n",
      "Mann_Kendall_Test(trend='no trend', h=False, p=0.15746463464761096, z=1.41365019798697, Tau=0.16073968705547653, s=113.0, var_s=6277.0, slope=0.0002754820936639091, intercept=0.005509641873278281)\n",
      "N.E.North-America\n",
      "Mann_Kendall_Test(trend='no trend', h=False, p=0.5801512457006335, z=0.5531638100301237, Tau=0.06401137980085349, s=45.0, var_s=6327.0, slope=0.00017067759003243328, intercept=0.011602365739813034)\n",
      "N.Europe\n",
      "Mann_Kendall_Test(trend='no trend', h=False, p=0.6873689324589578, z=0.4024281826551919, Tau=0.04694167852062589, s=33.0, var_s=6323.0, slope=8.568641408948337e-05, intercept=0.009567217696221857)\n",
      "N.W.North-America\n",
      "Mann_Kendall_Test(trend='no trend', h=False, p=0.18265591265350256, z=1.3326219059816617, Tau=0.15220483641536273, s=107.0, var_s=6327.0, slope=0.00038392992567875, intercept=0.008425128924616975)\n",
      "Russian-Arctic\n",
      "Mann_Kendall_Test(trend='no trend', h=False, p=0.22746955681557246, z=1.2069028582475427, Tau=0.1379800853485064, s=97.0, var_s=6327.0, slope=0.00038284706558984775, intercept=0.010787279083384317)\n",
      "Russian-Far-East\n",
      "Mann_Kendall_Test(trend='no trend', h=False, p=0.5974854542954886, z=0.5280200004832999, Tau=0.06116642958748222, s=43.0, var_s=6327.0, slope=0.00016629711751662998, intercept=0.016694382852919395)\n",
      "S.Asia\n",
      "Mann_Kendall_Test(trend='no trend', h=False, p=0.39236279827552645, z=0.8553402730808799, Tau=0.09815078236130868, s=69.0, var_s=6320.333333333333, slope=0.000176503033645888, intercept=0.01052399338113627)\n",
      "Tibetan-Plateau\n",
      "Mann_Kendall_Test(trend='no trend', h=False, p=0.6595466344205065, z=0.44053919031143357, Tau=0.051209103840682786, s=36.0, var_s=6312.0, slope=7.017543859648947e-05, intercept=0.010368421052631594)\n",
      "W.C.Asia\n",
      "Mann_Kendall_Test(trend='no trend', h=False, p=0.9698897601088388, z=0.03774655097910195, Tau=0.005689900426742532, s=4.0, var_s=6316.666666666667, slope=0.0, intercept=0.01813317479191435)\n",
      "W.North-America\n",
      "Mann_Kendall_Test(trend='no trend', h=False, p=0.1825867512981323, z=1.3328325805392949, Tau=0.15220483641536273, s=107.0, var_s=6325.0, slope=0.00036386490688366656, intercept=0.014926730839204668)\n",
      "W.Siberia\n",
      "Mann_Kendall_Test(trend='no trend', h=False, p=0.949866494975639, z=0.06287443185348211, Tau=0.008534850640113799, s=6.0, var_s=6324.0, slope=2.7908015181960013e-05, intercept=0.013633065416387539)\n",
      "West&Central-Europe\n",
      "Mann_Kendall_Test(trend='no trend', h=False, p=0.9398619662757817, z=-0.07544335361543178, Tau=-0.00995732574679943, s=-7.0, var_s=6325.0, slope=-2.7639579878388865e-05, intercept=0.018857103372028745)\n"
     ]
    }
   ],
   "source": [
    "vegetation_type = \"forest\"\n",
    "xtreme = \"high\"\n",
    "\n",
    "data = pd.read_csv(f\"/data/compoundx/anand/PCV/data/trend/{vegetation_type}_{xtreme}.csv\", header=None, index_col=0).T\n",
    "\n",
    "for col in data:\n",
    "    print(col)\n",
    "    print(mk.original_test(data[col]))"
   ]
  },
  {
   "cell_type": "code",
   "execution_count": null,
   "metadata": {},
   "outputs": [],
   "source": []
  }
 ],
 "metadata": {
  "kernelspec": {
   "display_name": "PCV310",
   "language": "python",
   "name": "python3"
  },
  "language_info": {
   "codemirror_mode": {
    "name": "ipython",
    "version": 3
   },
   "file_extension": ".py",
   "mimetype": "text/x-python",
   "name": "python",
   "nbconvert_exporter": "python",
   "pygments_lexer": "ipython3",
   "version": "3.10.13"
  }
 },
 "nbformat": 4,
 "nbformat_minor": 2
}
