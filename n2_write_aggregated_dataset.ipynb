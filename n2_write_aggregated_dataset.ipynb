{
 "cells": [
  {
   "cell_type": "code",
   "execution_count": 1,
   "metadata": {},
   "outputs": [],
   "source": [
    "import xarray as xr\n",
    "from pcv.process import standardise_monthly, detrend, aggregate_seasons, select_data\n",
    "import matplotlib.pylab as plt"
   ]
  },
  {
   "cell_type": "code",
   "execution_count": 2,
   "metadata": {},
   "outputs": [],
   "source": [
    "\n",
    "temp_path = \"/Users/anand/Documents/data/project_3_data/t2m.monthly.era5.europe.1981-2020.nc\"\n",
    "tp_path = \"/Users/anand/Documents/data/project_3_data/tp.monthly.era5.europe.1981-2020.nc\"\n",
    "rad_path = \"/Users/anand/Documents/data/project_3_data/ssrd.monthly.era5.europe.1981-2020.nc\"\n",
    "lai_path = \"/Users/anand/Documents/data/project_3_data/GLOBMAP_LAI.monthly.1982-2020_europe_025deg.nc\"\n",
    "swvlall_path = \"/Users/anand/Documents/data/project_3_data/swvlall.monthly.era5.europe.1981-2020.nc\"\n",
    "\n",
    "\n",
    "temp_data = xr.open_dataset(temp_path)\n",
    "tp_data = xr.open_dataset(tp_path)\n",
    "ssrd_data = xr.open_dataset(rad_path)\n",
    "swvlall_data = xr.open_dataset(swvlall_path)\n",
    "lai_data = xr.open_dataset(lai_path)"
   ]
  },
  {
   "cell_type": "code",
   "execution_count": 3,
   "metadata": {},
   "outputs": [
    {
     "name": "stdout",
     "output_type": "stream",
     "text": [
      "Function detrend Took 1.0736 seconds\n",
      "Function detrend Took 1.0142 seconds\n",
      "Function detrend Took 1.0202 seconds\n",
      "Function detrend Took 1.1526 seconds\n",
      "Function detrend Took 2.2650 seconds\n"
     ]
    }
   ],
   "source": [
    "\n",
    "detrended_temp = detrend(temp_data, deg=1, var=\"t2m\")\n",
    "detrended_tp = detrend(tp_data, deg=1, var=\"tp\")\n",
    "detrended_ssrd = detrend(ssrd_data, deg=1, var=\"ssrd\")\n",
    "detrended_swvlall = detrend(swvlall_data, deg=1, var=\"swvlall\")\n",
    "detrended_lai = detrend(lai_data, deg=1, var=\"GLOBMAP_LAI\")"
   ]
  },
  {
   "cell_type": "code",
   "execution_count": 13,
   "metadata": {},
   "outputs": [
    {
     "name": "stderr",
     "output_type": "stream",
     "text": [
      "/opt/miniconda3/envs/pcv/lib/python3.10/site-packages/numpy/lib/nanfunctions.py:1878: RuntimeWarning: Degrees of freedom <= 0 for slice.\n",
      "  var = nanvar(a, axis=axis, dtype=dtype, out=out, ddof=ddof,\n",
      "/opt/miniconda3/envs/pcv/lib/python3.10/site-packages/numpy/lib/nanfunctions.py:1878: RuntimeWarning: Degrees of freedom <= 0 for slice.\n",
      "  var = nanvar(a, axis=axis, dtype=dtype, out=out, ddof=ddof,\n",
      "/opt/miniconda3/envs/pcv/lib/python3.10/site-packages/numpy/lib/nanfunctions.py:1878: RuntimeWarning: Degrees of freedom <= 0 for slice.\n",
      "  var = nanvar(a, axis=axis, dtype=dtype, out=out, ddof=ddof,\n",
      "/opt/miniconda3/envs/pcv/lib/python3.10/site-packages/numpy/lib/nanfunctions.py:1878: RuntimeWarning: Degrees of freedom <= 0 for slice.\n",
      "  var = nanvar(a, axis=axis, dtype=dtype, out=out, ddof=ddof,\n",
      "/opt/miniconda3/envs/pcv/lib/python3.10/site-packages/numpy/lib/nanfunctions.py:1878: RuntimeWarning: Degrees of freedom <= 0 for slice.\n",
      "  var = nanvar(a, axis=axis, dtype=dtype, out=out, ddof=ddof,\n",
      "/opt/miniconda3/envs/pcv/lib/python3.10/site-packages/numpy/lib/nanfunctions.py:1878: RuntimeWarning: Degrees of freedom <= 0 for slice.\n",
      "  var = nanvar(a, axis=axis, dtype=dtype, out=out, ddof=ddof,\n",
      "/opt/miniconda3/envs/pcv/lib/python3.10/site-packages/numpy/lib/nanfunctions.py:1878: RuntimeWarning: Degrees of freedom <= 0 for slice.\n",
      "  var = nanvar(a, axis=axis, dtype=dtype, out=out, ddof=ddof,\n",
      "/opt/miniconda3/envs/pcv/lib/python3.10/site-packages/numpy/lib/nanfunctions.py:1878: RuntimeWarning: Degrees of freedom <= 0 for slice.\n",
      "  var = nanvar(a, axis=axis, dtype=dtype, out=out, ddof=ddof,\n",
      "/opt/miniconda3/envs/pcv/lib/python3.10/site-packages/numpy/lib/nanfunctions.py:1878: RuntimeWarning: Degrees of freedom <= 0 for slice.\n",
      "  var = nanvar(a, axis=axis, dtype=dtype, out=out, ddof=ddof,\n",
      "/opt/miniconda3/envs/pcv/lib/python3.10/site-packages/numpy/lib/nanfunctions.py:1878: RuntimeWarning: Degrees of freedom <= 0 for slice.\n",
      "  var = nanvar(a, axis=axis, dtype=dtype, out=out, ddof=ddof,\n",
      "/opt/miniconda3/envs/pcv/lib/python3.10/site-packages/numpy/lib/nanfunctions.py:1878: RuntimeWarning: Degrees of freedom <= 0 for slice.\n",
      "  var = nanvar(a, axis=axis, dtype=dtype, out=out, ddof=ddof,\n",
      "/opt/miniconda3/envs/pcv/lib/python3.10/site-packages/numpy/lib/nanfunctions.py:1878: RuntimeWarning: Degrees of freedom <= 0 for slice.\n",
      "  var = nanvar(a, axis=axis, dtype=dtype, out=out, ddof=ddof,\n",
      "/opt/miniconda3/envs/pcv/lib/python3.10/site-packages/numpy/lib/nanfunctions.py:1878: RuntimeWarning: Degrees of freedom <= 0 for slice.\n",
      "  var = nanvar(a, axis=axis, dtype=dtype, out=out, ddof=ddof,\n",
      "/opt/miniconda3/envs/pcv/lib/python3.10/site-packages/numpy/lib/nanfunctions.py:1878: RuntimeWarning: Degrees of freedom <= 0 for slice.\n",
      "  var = nanvar(a, axis=axis, dtype=dtype, out=out, ddof=ddof,\n",
      "/opt/miniconda3/envs/pcv/lib/python3.10/site-packages/numpy/lib/nanfunctions.py:1878: RuntimeWarning: Degrees of freedom <= 0 for slice.\n",
      "  var = nanvar(a, axis=axis, dtype=dtype, out=out, ddof=ddof,\n",
      "/opt/miniconda3/envs/pcv/lib/python3.10/site-packages/numpy/lib/nanfunctions.py:1878: RuntimeWarning: Degrees of freedom <= 0 for slice.\n",
      "  var = nanvar(a, axis=axis, dtype=dtype, out=out, ddof=ddof,\n",
      "/opt/miniconda3/envs/pcv/lib/python3.10/site-packages/numpy/lib/nanfunctions.py:1878: RuntimeWarning: Degrees of freedom <= 0 for slice.\n",
      "  var = nanvar(a, axis=axis, dtype=dtype, out=out, ddof=ddof,\n",
      "/opt/miniconda3/envs/pcv/lib/python3.10/site-packages/numpy/lib/nanfunctions.py:1878: RuntimeWarning: Degrees of freedom <= 0 for slice.\n",
      "  var = nanvar(a, axis=axis, dtype=dtype, out=out, ddof=ddof,\n",
      "/opt/miniconda3/envs/pcv/lib/python3.10/site-packages/numpy/lib/nanfunctions.py:1878: RuntimeWarning: Degrees of freedom <= 0 for slice.\n",
      "  var = nanvar(a, axis=axis, dtype=dtype, out=out, ddof=ddof,\n",
      "/opt/miniconda3/envs/pcv/lib/python3.10/site-packages/numpy/lib/nanfunctions.py:1878: RuntimeWarning: Degrees of freedom <= 0 for slice.\n",
      "  var = nanvar(a, axis=axis, dtype=dtype, out=out, ddof=ddof,\n",
      "/opt/miniconda3/envs/pcv/lib/python3.10/site-packages/numpy/lib/nanfunctions.py:1878: RuntimeWarning: Degrees of freedom <= 0 for slice.\n",
      "  var = nanvar(a, axis=axis, dtype=dtype, out=out, ddof=ddof,\n",
      "/opt/miniconda3/envs/pcv/lib/python3.10/site-packages/numpy/lib/nanfunctions.py:1878: RuntimeWarning: Degrees of freedom <= 0 for slice.\n",
      "  var = nanvar(a, axis=axis, dtype=dtype, out=out, ddof=ddof,\n",
      "/opt/miniconda3/envs/pcv/lib/python3.10/site-packages/numpy/lib/nanfunctions.py:1878: RuntimeWarning: Degrees of freedom <= 0 for slice.\n",
      "  var = nanvar(a, axis=axis, dtype=dtype, out=out, ddof=ddof,\n",
      "/opt/miniconda3/envs/pcv/lib/python3.10/site-packages/numpy/lib/nanfunctions.py:1878: RuntimeWarning: Degrees of freedom <= 0 for slice.\n",
      "  var = nanvar(a, axis=axis, dtype=dtype, out=out, ddof=ddof,\n"
     ]
    }
   ],
   "source": [
    "\n",
    "standardised_temp = standardise_monthly(detrended_temp)\n",
    "standardised_tp = standardise_monthly(detrended_tp)\n",
    "standardised_ssrd = standardise_monthly(detrended_ssrd)\n",
    "standardised_swvlall = standardise_monthly(detrended_swvlall)\n",
    "standardised_lai = standardise_monthly(detrended_lai)"
   ]
  },
  {
   "cell_type": "code",
   "execution_count": 21,
   "metadata": {},
   "outputs": [],
   "source": [
    "aggregated_temp = aggregate_seasons(standardised_temp)\n",
    "aggregated_tp = aggregate_seasons(standardised_tp)\n",
    "aggregated_ssrd = aggregate_seasons(standardised_ssrd)\n",
    "aggregated_swvlall = aggregate_seasons(standardised_swvlall)\n",
    "aggregated_lai = aggregate_seasons(standardised_lai)"
   ]
  },
  {
   "cell_type": "code",
   "execution_count": 16,
   "metadata": {},
   "outputs": [],
   "source": [
    "aggregated_temp.to_netcdf(\"/Users/anand/Documents/data/project_3_data/data/aggregated_temp.nc\")\n",
    "aggregated_tp.to_netcdf(\"/Users/anand/Documents/data/project_3_data/data/aggregated_tp.nc\")\n",
    "aggregated_ssrd.to_netcdf(\"/Users/anand/Documents/data/project_3_data/data/aggregated_ssrd.nc\")\n",
    "aggregated_swvlall.to_netcdf(\"/Users/anand/Documents/data/project_3_data/data/aggregated_swvlall.nc\")\n",
    "aggregated_lai.to_netcdf(\"/Users/anand/Documents/data/project_3_data/data/aggregated_lai.nc\")"
   ]
  }
 ],
 "metadata": {
  "kernelspec": {
   "display_name": "Python 3.10.5 ('pcv')",
   "language": "python",
   "name": "python3"
  },
  "language_info": {
   "codemirror_mode": {
    "name": "ipython",
    "version": 3
   },
   "file_extension": ".py",
   "mimetype": "text/x-python",
   "name": "python",
   "nbconvert_exporter": "python",
   "pygments_lexer": "ipython3",
   "version": "3.10.5"
  },
  "orig_nbformat": 4,
  "vscode": {
   "interpreter": {
    "hash": "3af305b1705fd16ef278595beece4e4c7467d5e82d71657f4ae1e3acf20a7d93"
   }
  }
 },
 "nbformat": 4,
 "nbformat_minor": 2
}
