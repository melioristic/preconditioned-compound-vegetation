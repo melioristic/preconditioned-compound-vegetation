{
 "cells": [
  {
   "cell_type": "code",
   "execution_count": 1,
   "metadata": {},
   "outputs": [],
   "source": [
    "import xarray as xr\n",
    "import numpy as np\n",
    "import os\n",
    "\n",
    "from pcv.cfg import IPCC_ACRONYM"
   ]
  },
  {
   "cell_type": "code",
   "execution_count": 2,
   "metadata": {},
   "outputs": [],
   "source": [
    "xtreme = \"high\"\n",
    "vegetation_type = \"forest\"\n",
    "ds_path = \"/data/compoundx/anand/PCV/data/\""
   ]
  },
  {
   "cell_type": "code",
   "execution_count": 3,
   "metadata": {},
   "outputs": [],
   "source": [
    "region_list = list(IPCC_ACRONYM.keys())"
   ]
  },
  {
   "cell_type": "code",
   "execution_count": 1,
   "metadata": {},
   "outputs": [],
   "source": [
    "for region in region_list:\n",
    "    data_3 = xr.open_dataset(f\"/data/compoundx/anand/PCV/data/{vegetation_type}_data/{xtreme}/{vegetation_type}_{region}_v3.nc\")\n",
    "    data_0 = xr.open_dataset(f\"/data/compoundx/anand/PCV/data/{vegetation_type}_data/{xtreme}/{vegetation_type}_{region}_v0.nc\")\n",
    "    \n",
    "    # data = data.sortby(data.longitude).sortby(data.latitude).sortby(data.time)\n",
    "    # data_flat = data.stack(point =(\"latitude\", \"longitude\", \"time\"))\n",
    "    # data_flat = data_flat.dropna(dim=\"point\", how=\"any\")\n",
    "    # var_list = list(data_flat.keys())\n",
    "\n",
    "    # data_list = []\n",
    "    # for i, var in enumerate(var_list):\n",
    "    #     data_i = data_flat[var]\n",
    "    #     if i < len(var_list)-1:\n",
    "    #         assert (data_i.time == data_flat[var_list[i+1]].dropna(dim = \"point\", how=\"all\").time).all().values == True\n",
    "\n",
    "    #     if i==0:\n",
    "    #         data_list.append(data_i.time.values)\n",
    "    #     data_list.append(data_i.values)\n",
    "\n",
    "    # data_arr = np.vstack(data_list).T\n",
    "    # data_arr[~np.isnan(data_arr).any(axis=1)]\n",
    "\n",
    "    # header_names = [each_header.replace(f\"_{vegetation_type}\", \"\") for each_header in var_list]\n",
    "\n",
    "    # header = \"year\\t\"\n",
    "    # header = header + (\"\\t\".join(header_names))\n",
    "    # np.savetxt(f\"{ds_path}{vegetation_type}_data/{xtreme}/\"+f\"{vegetation_type}_{xtreme}_{region}_v3.csv\", data_arr, header=header, fmt='%1.3f', delimiter=\"\\t\")\n",
    "    # print(region)\n"
   ]
  }
 ],
 "metadata": {
  "kernelspec": {
   "display_name": "PCV310",
   "language": "python",
   "name": "python3"
  },
  "language_info": {
   "codemirror_mode": {
    "name": "ipython",
    "version": 3
   },
   "file_extension": ".py",
   "mimetype": "text/x-python",
   "name": "python",
   "nbconvert_exporter": "python",
   "pygments_lexer": "ipython3",
   "version": "3.10.13"
  }
 },
 "nbformat": 4,
 "nbformat_minor": 2
}
