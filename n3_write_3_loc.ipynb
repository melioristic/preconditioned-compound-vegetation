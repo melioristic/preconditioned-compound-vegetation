{
 "cells": [
  {
   "cell_type": "code",
   "execution_count": 1,
   "metadata": {},
   "outputs": [],
   "source": [
    "import xarray as xr\n",
    "import semopy as sm\n",
    "from pcv.process import select_data"
   ]
  },
  {
   "cell_type": "code",
   "execution_count": 5,
   "metadata": {},
   "outputs": [],
   "source": [
    "temp_path = \"/Users/anand/Documents/data/project_3_data/data/detrended_temp.nc\"\n",
    "tp_path = \"/Users/anand/Documents/data/project_3_data/data/detrended_tp.nc\"\n",
    "rad_path = \"/Users/anand/Documents/data/project_3_data/data/detrended_ssrd.nc\"\n",
    "lai_path = \"/Users/anand/Documents/data/project_3_data/data/detrended_lai.nc\"\n",
    "swvlall_path = \"/Users/anand/Documents/data/project_3_data/data/detrended_swvlall.nc\"\n",
    "vpd_path = \"/Users/anand/Documents/data/project_3_data/data/detrended_vpd.nc\"\n",
    "\n",
    "\n",
    "temp_data = xr.open_dataset(temp_path)\n",
    "tp_data = xr.open_dataset(tp_path)\n",
    "ssrd_data = xr.open_dataset(rad_path)\n",
    "swvlall_data = xr.open_dataset(swvlall_path)\n",
    "vpd_data = xr.open_dataset(vpd_path)\n",
    "lai_data = xr.open_dataset(lai_path)"
   ]
  },
  {
   "cell_type": "code",
   "execution_count": 6,
   "metadata": {},
   "outputs": [],
   "source": [
    "temp_winter = select_data(temp_data,  \"winter\")\n",
    "temp_spring = select_data(temp_data,  \"spring\")\n",
    "temp_summer = select_data(temp_data,  \"summer\")\n",
    "\n",
    "tp_winter = select_data(tp_data,  \"winter\")\n",
    "tp_spring = select_data(tp_data,  \"spring\")\n",
    "tp_summer = select_data(tp_data,  \"summer\")\n",
    "\n",
    "ssrd_winter = select_data(ssrd_data,  \"winter\")\n",
    "ssrd_spring = select_data(ssrd_data,  \"spring\")\n",
    "ssrd_summer = select_data(ssrd_data,  \"summer\")\n",
    "\n",
    "lai_winter = select_data(lai_data,  \"winter\")\n",
    "lai_spring = select_data(lai_data,  \"spring\")\n",
    "lai_summer = select_data(lai_data,  \"summer\")\n",
    "\n",
    "swvlall_winter = select_data(swvlall_data,  \"winter\")\n",
    "swvlall_spring = select_data(swvlall_data,  \"spring\")\n",
    "swvlall_summer = select_data(swvlall_data,  \"summer\")\n",
    "\n",
    "vpd_winter = select_data(vpd_data,  \"winter\")\n",
    "vpd_spring = select_data(vpd_data,  \"spring\")\n",
    "vpd_summer = select_data(vpd_data,  \"summer\")"
   ]
  },
  {
   "cell_type": "code",
   "execution_count": 7,
   "metadata": {},
   "outputs": [],
   "source": [
    "import pandas as pd\n",
    "import numpy as np\n",
    "\n",
    "lat_lon_list = [(45, 0), (42, 13), (68,25)]\n",
    "\n",
    "for lat, lon in lat_lon_list:\n",
    "\n",
    "    temp_w = temp_winter.sel(latitude=lat, longitude = lon, method = \"nearest\").__xarray_dataarray_variable__.to_numpy()[-39:]\n",
    "    temp_sp = temp_spring.sel(latitude=lat, longitude = lon, method = \"nearest\").__xarray_dataarray_variable__.to_numpy()[-39:]\n",
    "    temp_su = temp_summer.sel(latitude=lat, longitude = lon, method = \"nearest\").__xarray_dataarray_variable__.to_numpy()[-39:]\n",
    "\n",
    "    tp_w = tp_winter.sel(latitude=lat, longitude = lon, method = \"nearest\").__xarray_dataarray_variable__.to_numpy()[-39:]\n",
    "    tp_sp = tp_spring.sel(latitude=lat, longitude = lon, method = \"nearest\").__xarray_dataarray_variable__.to_numpy()[-39:]\n",
    "    tp_su = tp_summer.sel(latitude=lat, longitude = lon, method = \"nearest\").__xarray_dataarray_variable__.to_numpy()[-39:]\n",
    "    \n",
    "    ssrd_w = ssrd_winter.sel(latitude=lat, longitude = lon, method = \"nearest\").__xarray_dataarray_variable__.to_numpy()[-39:]\n",
    "    ssrd_sp = ssrd_spring.sel(latitude=lat, longitude = lon, method = \"nearest\").__xarray_dataarray_variable__.to_numpy()[-39:]\n",
    "    ssrd_su = ssrd_summer.sel(latitude=lat, longitude = lon, method = \"nearest\").__xarray_dataarray_variable__.to_numpy()[-39:]\n",
    "\n",
    "    lai_w = lai_winter.sel(latitude=lat, longitude = lon, method = \"nearest\").__xarray_dataarray_variable__.to_numpy()[-39:]\n",
    "    lai_sp = lai_spring.sel(latitude=lat, longitude = lon, method = \"nearest\").__xarray_dataarray_variable__.to_numpy()[-39:]\n",
    "    lai_su = lai_summer.sel(latitude=lat, longitude = lon, method = \"nearest\").__xarray_dataarray_variable__.to_numpy()[-39:]\n",
    "\n",
    "    vpd_w = vpd_winter.sel(latitude=lat, longitude = lon, method = \"nearest\").__xarray_dataarray_variable__.to_numpy()[-39:]\n",
    "    vpd_sp = vpd_spring.sel(latitude=lat, longitude = lon, method = \"nearest\").__xarray_dataarray_variable__.to_numpy()[-39:]\n",
    "    vpd_su = vpd_summer.sel(latitude=lat, longitude = lon, method = \"nearest\").__xarray_dataarray_variable__.to_numpy()[-39:]\n",
    "\n",
    "    swvlall_w = swvlall_winter.sel(latitude=lat, longitude = lon, method = \"nearest\").__xarray_dataarray_variable__.to_numpy()[-39:]\n",
    "    swvlall_sp = swvlall_spring.sel(latitude=lat, longitude = lon, method = \"nearest\").__xarray_dataarray_variable__.to_numpy()[-39:]\n",
    "    swvlall_su = swvlall_summer.sel(latitude=lat, longitude = lon, method = \"nearest\").__xarray_dataarray_variable__.to_numpy()[-39:]\n",
    "    assert temp_w.shape == temp_sp.shape == temp_su.shape\n",
    "    \n",
    "    list_val = [temp_w[:-1], temp_sp[1:], temp_su[1:],\n",
    "            tp_w[:-1], tp_sp[1:], tp_su[1:], \n",
    "            ssrd_w[:-1], ssrd_sp[1:], ssrd_su[1:], \n",
    "            lai_w[:-1], lai_sp[1:], lai_su[1:],\n",
    "            vpd_w[:-1], vpd_sp[1:], vpd_su[1:],\n",
    "            swvlall_w[:-1], swvlall_sp[1:], swvlall_su[1:]\n",
    "            ]\n",
    "\n",
    "    col_names = [\"temp_winter\", \"temp_spring\", \"temp_summer\",\n",
    "                \"tp_winter\", \"tp_spring\", \"tp_summer\",\n",
    "                \"ssrd_winter\", \"ssrd_spring\", \"ssrd_summer\",\n",
    "                \"lai_winter\", \"lai_spring\", \"lai_summer\", \n",
    "                \"vpd_winter\", \"vpd_spring\", \"vpd_summer\",\n",
    "                \"swvlall_winter\", \"swvlall_spring\", \"swvlall_summer\",\n",
    "                ]    \n",
    "    data = np.vstack(list_val).T\n",
    "\n",
    "    df = pd.DataFrame(data, columns=col_names)\n",
    "\n",
    "    df.to_csv(f\"/Users/anand/Documents/data/project_3_data/data/lat_{lat}_lon_{lon}.csv\")"
   ]
  },
  {
   "cell_type": "code",
   "execution_count": null,
   "metadata": {},
   "outputs": [],
   "source": []
  }
 ],
 "metadata": {
  "kernelspec": {
   "display_name": "Python 3.10.5 ('pcv')",
   "language": "python",
   "name": "python3"
  },
  "language_info": {
   "codemirror_mode": {
    "name": "ipython",
    "version": 3
   },
   "file_extension": ".py",
   "mimetype": "text/x-python",
   "name": "python",
   "nbconvert_exporter": "python",
   "pygments_lexer": "ipython3",
   "version": "3.10.5"
  },
  "orig_nbformat": 4,
  "vscode": {
   "interpreter": {
    "hash": "3af305b1705fd16ef278595beece4e4c7467d5e82d71657f4ae1e3acf20a7d93"
   }
  }
 },
 "nbformat": 4,
 "nbformat_minor": 2
}
