{
 "cells": [
  {
   "cell_type": "code",
   "execution_count": 49,
   "metadata": {},
   "outputs": [],
   "source": [
    "import xarray as xr\n",
    "from pcv.process import select_data\n",
    "from pcv.cfg import IPCC_REGION_SHPFILE\n",
    "\n",
    "import cartopy.crs as ccrs\n",
    "import cartopy.feature as cf\n",
    "from cartopy.feature import ShapelyFeature\n",
    "import cartopy.io.shapereader as shpreader\n",
    "\n",
    "import matplotlib as mpl\n",
    "import matplotlib.pyplot as plt\n",
    "import matplotlib.cm as cm\n",
    "import numpy as np\n",
    "import os\n"
   ]
  },
  {
   "cell_type": "code",
   "execution_count": 62,
   "metadata": {},
   "outputs": [],
   "source": [
    "t2m_path = \"/data/compoundx/anand/PCV/data/detrended_seasonal_t2m.nc\"\n",
    "tp_path = \"/data/compoundx/anand/PCV/data/detrended_seasonal_tp.nc\"\n",
    "ssrd_path = \"/data/compoundx/anand/PCV/data/detrended_seasonal_ssrd.nc\"\n",
    "lai_path = \"/data/compoundx/anand/PCV/data/detrended_seasonal_lai.nc\"\n",
    "swvlall_path = \"/data/compoundx/anand/PCV/data/detrended_seasonal_smroot.nc\"\n",
    "vpd_path = \"/data/compoundx/anand/PCV/data/detrended_seasonal_vpd.nc\"\n",
    "sd_path = \"/data/compoundx/anand/PCV/data/detrended_seasonal_sd.nc\"\n",
    "\n",
    "t2m_data = xr.open_dataset(t2m_path)\n",
    "tp_data = xr.open_dataset(tp_path)\n",
    "ssrd_data = xr.open_dataset(ssrd_path)\n",
    "swvlall_data = xr.open_dataset(swvlall_path)\n",
    "vpd_data = xr.open_dataset(vpd_path)\n",
    "sd_data = xr.open_dataset(sd_path)\n",
    "lai_data = xr.open_dataset(lai_path)\n",
    "lai_data = lai_data.reindex(lat = list(reversed(lai_data.lat)))"
   ]
  },
  {
   "cell_type": "code",
   "execution_count": 75,
   "metadata": {},
   "outputs": [
    {
     "name": "stderr",
     "output_type": "stream",
     "text": [
      "/home/anand/.conda/envs/pcv/lib/python3.10/site-packages/numpy/lib/nanfunctions.py:1583: RuntimeWarning: All-NaN slice encountered\n",
      "  result = np.apply_along_axis(_nanquantile_1d, axis, a, q,\n"
     ]
    }
   ],
   "source": [
    "t2m_winter = select_data(t2m_data,  \"winter\")\n",
    "t2m_spring = select_data(t2m_data,  \"spring\")\n",
    "t2m_summer = select_data(t2m_data,  \"summer\")\n",
    "\n",
    "tp_winter = select_data(tp_data,  \"winter\")\n",
    "tp_spring = select_data(tp_data,  \"spring\")\n",
    "tp_summer = select_data(tp_data,  \"summer\")\n",
    "\n",
    "ssrd_winter = select_data(ssrd_data,  \"winter\")\n",
    "ssrd_spring = select_data(ssrd_data,  \"spring\")\n",
    "ssrd_summer = select_data(ssrd_data,  \"summer\")\n",
    "\n",
    "lai_winter = select_data(lai_data,  \"winter\")\n",
    "lai_spring = select_data(lai_data,  \"spring\")\n",
    "lai_summer = select_data(lai_data,  \"summer\")\n",
    "\n",
    "swvlall_winter = select_data(swvlall_data,  \"winter\")\n",
    "swvlall_spring = select_data(swvlall_data,  \"spring\")\n",
    "swvlall_summer = select_data(swvlall_data,  \"summer\")\n",
    "\n",
    "vpd_winter = select_data(vpd_data,  \"winter\")\n",
    "vpd_spring = select_data(vpd_data,  \"spring\")\n",
    "vpd_summer = select_data(vpd_data,  \"summer\")\n",
    "\n",
    "\n",
    "sd_winter = select_data(sd_data,  \"winter\")\n",
    "sd_spring = select_data(sd_data,  \"spring\")\n",
    "sd_summer = select_data(sd_data,  \"summer\")\n",
    "\n",
    "xtreme = \"high\"\n",
    "if xtreme==\"low\":\n",
    "    t = lai_summer.quantile(0.1, dim=\"time\")\n",
    "    lai_summer = xr.where(lai_summer<t, 1, 0)\n",
    "elif xtreme == \"high\":\n",
    "    t = lai_summer.quantile(0.9, dim=\"time\")\n",
    "    lai_summer = xr.where(lai_summer>t, 1, 0)\n"
   ]
  },
  {
   "cell_type": "code",
   "execution_count": 76,
   "metadata": {},
   "outputs": [],
   "source": [
    "def read_clim_mask():\n",
    "    clim_mask_path = \"/data/compoundx/anand/PCV/data/clim_mask/\"\n",
    "    clim_files = [clim_mask_path + file for file in os.listdir(clim_mask_path) if \".npy\" in file ]\n",
    "\n",
    "    return [np.load(files) for files in clim_files], [files.split(\"/\")[-1] for files in clim_files]\n",
    "\n",
    "def read_land_use(year):\n",
    "    if year < 2016:\n",
    "        version = \"2.0.7cds\"\n",
    "    else:\n",
    "        version = \"2.1.1\"\n",
    "\n",
    "    file_name = f\"/data/compoundx/anand/PCV/data/CCI-LC/ESACCI-LC-L4-LCCS-Map-300m-P1Y-aggregated-0.500000Deg-{year}-v{version}.nc\"\n",
    "    return xr.open_dataset(file_name)\n",
    "\n",
    "def majority_class_1_landuse():\n",
    "    val = []\n",
    "    for i in range(1992, 2019):\n",
    "        data = read_land_use(i)\n",
    "        val.append(data.interp(lat = lai_data.lat.data, lon = lai_data.lon.data, method = \"nearest\").majority_class_1.data)\n",
    "\n",
    "    majority_class_1 = np.stack(val)\n",
    "\n",
    "    lu_mc_1 = xr.DataArray(\n",
    "        majority_class_1, dims = [\"time\", \"lat\", \"lon\"], coords = {\n",
    "            \"time\" : np.arange(1992, 2019),\n",
    "            \"lat\" : lai_data.lat.data,\n",
    "            \"lon\" : lai_data.lon.data,\n",
    "        }\n",
    "    )\n",
    "    return lu_mc_1\n",
    "\n",
    "lu_mc_1 = majority_class_1_landuse()\n",
    "\n",
    "def mask_crop_forest(lu_mc_1):\n",
    "\n",
    "    last_year_lu = lu_mc_1[-1,:,:]\n",
    "    \n",
    "    mask_forest = ((last_year_lu>=40) & ((last_year_lu<110)))\n",
    "    mask_crop = ((last_year_lu>=10) & ((last_year_lu<40)))\n",
    "\n",
    "    return mask_crop.values, mask_forest.values"
   ]
  },
  {
   "cell_type": "code",
   "execution_count": 77,
   "metadata": {},
   "outputs": [],
   "source": [
    "mask_crop, mask_forest = mask_crop_forest(lu_mc_1)\n",
    "region_mask, region_name = read_clim_mask()"
   ]
  },
  {
   "cell_type": "code",
   "execution_count": 78,
   "metadata": {},
   "outputs": [],
   "source": [
    "def generate_shape_feature():\n",
    "    ipcc_regions = shpreader.Reader(IPCC_REGION_SHPFILE)\n",
    "    shape_feature_list = []\n",
    "    for i, records in enumerate(ipcc_regions.records()):\n",
    "        shape_feature = ShapelyFeature([records.geometry], ccrs.PlateCarree(), facecolor = \"None\", edgecolor='black', lw=1)\n",
    "        shape_feature_list.append((records.attributes[\"Name\"], shape_feature, (records.geometry.centroid.x, records.geometry.centroid.y) ))\n",
    "\n",
    "    return shape_feature_list\n",
    "shape_feature_list = generate_shape_feature()"
   ]
  },
  {
   "cell_type": "code",
   "execution_count": 79,
   "metadata": {},
   "outputs": [
    {
     "data": {
      "image/png": "[encoded data removed]",
      "text/plain": [
       "<Figure size 1400x800 with 1 Axes>"
      ]
     },
     "metadata": {},
     "output_type": "display_data"
    }
   ],
   "source": [
    "fig, ax = plt.subplots(1, 1, figsize = (14, 8), \n",
    "                subplot_kw={'projection': ccrs.PlateCarree()})\n",
    "\n",
    "ax.pcolormesh(np.linspace(-180, 180, 1441),np.linspace(25,75, 201), np.flip(mask_crop, axis=0), snap=True, cmap = \"Blues\")\n",
    "\n",
    "for name, shape_feature, centroid in shape_feature_list:\n",
    "    # if 75>centroid[1]>15:\n",
    "    if name in [\"Russian-Arctic\"]: #[\"W.C.Asia\", \"E.C.Asia\", \"W.Siberia\", \"Tibetan-Plateau\"]: \n",
    "        ax.add_feature(shape_feature, linestyle = \"--\", label = name)\n",
    "        ax.set_extent((-180, 180, 25, 75), crs=ccrs.PlateCarree())\n",
    "        ax.text(centroid[0], centroid[1], name, color='c', size=8, ha='center', va='center', wrap = True,  transform=ccrs.PlateCarree())"
   ]
  },
  {
   "cell_type": "code",
   "execution_count": 80,
   "metadata": {},
   "outputs": [
    {
     "data": {
      "image/png": "[encoded data removed]",
      "text/plain": [
       "<Figure size 1000x800 with 1 Axes>"
      ]
     },
     "metadata": {},
     "output_type": "display_data"
    }
   ],
   "source": [
    "fig, ax = plt.subplots(1, 1, figsize = (10, 8), \n",
    "                subplot_kw={'projection': ccrs.PlateCarree()})\n",
    "\n",
    "ax.pcolormesh(np.linspace(-180, 180, 1441),np.linspace(25,75, 201), np.flip(mask_forest, axis=0), snap=True, cmap = \"Oranges\")\n",
    "\n",
    "for name, shape_feature, centroid in shape_feature_list:\n",
    "    # if 75>centroid[1]>15:\n",
    "    if name in [\"W.C.Asia\", \"E.C.Asia\", \"W.Siberia\", \"Tibetan-Plateau\"]: \n",
    "        ax.add_feature(shape_feature, linestyle = \"--\", label = name)\n",
    "        ax.set_extent((35, 120, 25, 75), crs=ccrs.PlateCarree())\n",
    "        ax.text(centroid[0], centroid[1], name, color='c', size=8, ha='center', va='center', wrap = True,  transform=ccrs.PlateCarree())"
   ]
  },
  {
   "cell_type": "code",
   "execution_count": 81,
   "metadata": {},
   "outputs": [],
   "source": [
    "def flatten_groups(arr, region_mask, mask_crop, mask_forest):\n",
    "\n",
    "    region_crop = np.logical_and(region_mask, mask_crop)\n",
    "    region_forest = np.logical_and(region_mask, mask_forest)\n",
    "    \n",
    "    crop = arr.values[:,region_crop==True]\n",
    "    forest = arr.values[:,region_forest==True]\n",
    "\n",
    "    year_c = np.tile(np.arange(1983,2021), crop.shape[1])\n",
    "    year_f = np.tile(np.arange(1983,2021), forest.shape[1])\n",
    "\n",
    "    return (crop.flatten(\"F\"), year_c ), (forest.flatten(\"F\"), year_f)"
   ]
  },
  {
   "cell_type": "code",
   "execution_count": 82,
   "metadata": {},
   "outputs": [
    {
     "name": "stdout",
     "output_type": "stream",
     "text": [
      "W.North-America.npy\n",
      "E.Siberia.npy\n",
      "Tibetan-Plateau.npy\n",
      "West&Central-Europe.npy\n",
      "E.Asia.npy\n",
      "N.Central-America.npy\n",
      "Mediterranean.npy\n",
      "N.Europe.npy\n",
      "Russian-Far-East.npy\n",
      "N.E.North-America.npy\n",
      "E.C.Asia.npy\n",
      "N.W.North-America.npy\n",
      "S.Asia.npy\n",
      "E.Europe.npy\n",
      "E.North-America.npy\n",
      "C.North-America.npy\n",
      "W.Siberia.npy\n",
      "Sahara.npy\n",
      "W.C.Asia.npy\n"
     ]
    }
   ],
   "source": [
    "ds_path = \"/data/compoundx/anand/PCV/data/\"\n",
    "\n",
    "for clim_index, name in enumerate(region_name):\n",
    "\n",
    "\n",
    "\n",
    "    (t2m_w_crop, year_c), (t2m_w_forest, year_f)= flatten_groups(t2m_winter, region_mask[clim_index], mask_crop=np.flip(mask_crop, axis=0), mask_forest = np.flip(mask_forest, axis=0))\n",
    "    (tp_w_crop,_),(tp_w_forest, _) = flatten_groups(tp_winter, region_mask[clim_index], mask_crop=np.flip(mask_crop, axis=0), mask_forest = np.flip(mask_forest, axis=0))\n",
    "\n",
    "\n",
    "    (t2m_sp_crop,_) , (t2m_sp_forest, _) = flatten_groups(t2m_spring, region_mask[clim_index], mask_crop=np.flip(mask_crop, axis=0), mask_forest = np.flip(mask_forest, axis=0))\n",
    "    (tp_sp_crop,_) , (tp_sp_forest, _) = flatten_groups(tp_spring, region_mask[clim_index], mask_crop=np.flip(mask_crop, axis=0), mask_forest = np.flip(mask_forest, axis=0))\n",
    "\n",
    "    (t2m_su_crop,_) , (t2m_su_forest, _) = flatten_groups(t2m_summer, region_mask[clim_index], mask_crop=np.flip(mask_crop, axis=0), mask_forest = np.flip(mask_forest, axis=0))\n",
    "    (tp_su_crop,_) , (tp_su_forest, _) = flatten_groups(tp_summer, region_mask[clim_index], mask_crop=np.flip(mask_crop, axis=0), mask_forest = np.flip(mask_forest, axis=0))\n",
    "\n",
    "    (sm_w_crop,_) , (sm_w_forest, _) = flatten_groups(swvlall_winter, region_mask[clim_index], mask_crop=np.flip(mask_crop, axis=0), mask_forest = np.flip(mask_forest, axis=0))\n",
    "    (sm_sp_crop,_) , (sm_sp_forest, _) = flatten_groups(swvlall_spring, region_mask[clim_index], mask_crop=np.flip(mask_crop, axis=0), mask_forest = np.flip(mask_forest, axis=0))\n",
    "    (sm_su_crop,_) , (sm_su_forest, _) = flatten_groups(swvlall_summer, region_mask[clim_index], mask_crop=np.flip(mask_crop, axis=0), mask_forest = np.flip(mask_forest, axis=0))\n",
    "    (lai_sp_crop,_) , (lai_sp_forest, _) = flatten_groups(lai_spring, region_mask[clim_index], mask_crop=np.flip(mask_crop, axis=0), mask_forest = np.flip(mask_forest, axis=0))\n",
    "    (lai_su_crop,_) , (lai_su_forest, _) = flatten_groups(lai_summer, region_mask[clim_index], mask_crop=np.flip(mask_crop, axis=0), mask_forest = np.flip(mask_forest, axis=0))\n",
    "\n",
    "    x_crop = np.vstack([year_c, t2m_w_crop, tp_w_crop, sm_w_crop, t2m_sp_crop, tp_sp_crop, sm_sp_crop, lai_sp_crop, t2m_su_crop, tp_su_crop, sm_su_crop, lai_su_crop]).T\n",
    "    x_forest = np.vstack([year_f, t2m_w_forest, tp_w_forest, sm_w_forest, t2m_sp_forest, tp_sp_forest, sm_sp_forest, lai_sp_forest, t2m_su_forest, tp_su_forest, sm_su_forest, lai_su_forest]).T\n",
    "\n",
    "    header = \"year\\tt2m_winter\\ttp_winter\\tsm_winter\\tt2m_spring\\ttp_spring\\tsm_spring\\tlai_spring\\tt2m_summer\\ttp_summer\\tsm_summer\\tlai_su\"\n",
    "\n",
    "    if x_crop.shape[0]/38 > 0:\n",
    "        print(name)\n",
    "        np.savetxt(f\"{ds_path}crop_data/{xtreme}/\"+f\"crop_{name[:-4]}_n_{x_crop.shape[0]//38}_v3.csv\", x_crop, fmt='%1.3f', delimiter=\"\\t\", header=header)\n",
    "    if x_forest.shape[0]/38 > 0:\n",
    "        np.savetxt(f\"{ds_path}forest_data/{xtreme}/\"+f\"forest_{name[:-4]}_n_{x_forest.shape[0]//38}_v3.csv\", x_forest, fmt='%1.3f', delimiter=\"\\t\", header=header)\n"
   ]
  },
  {
   "cell_type": "code",
   "execution_count": 85,
   "metadata": {},
   "outputs": [
    {
     "name": "stdout",
     "output_type": "stream",
     "text": [
      "1752.0\n",
      "852.0\n"
     ]
    },
    {
     "data": {
      "image/png": "[encoded data removed]",
      "text/plain": [
       "<Figure size 1000x400 with 2 Axes>"
      ]
     },
     "metadata": {},
     "output_type": "display_data"
    }
   ],
   "source": [
    "ds_path = \"/data/compoundx/anand/PCV/data/\"\n",
    "\n",
    "for clim_index, name in enumerate(region_name):\n",
    "    if name in [\"C.North-America.npy\"]:\n",
    "        fig, (ax1, ax2) = plt.subplots(2, 1, figsize = (10, 4), \n",
    "                    subplot_kw={'projection': ccrs.PlateCarree()})\n",
    "\n",
    "        ax1.pcolormesh(np.linspace(-180, 180, 1441),np.linspace(25,75, 201), np.flip(mask_crop, axis=0), snap=True, alpha= 0.5, cmap=\"Greys\")\n",
    "        ax2.pcolormesh(np.linspace(-180, 180, 1441),np.linspace(25,75, 201), np.flip(mask_forest, axis=0), snap=True, alpha= 0.5, cmap=\"Greys\")\n",
    "        \n",
    "        ax1.pcolormesh(np.linspace(-180, 180, 1441),np.linspace(25,75, 201), region_mask[clim_index], snap=True, alpha=0.1, cmap = \"Greys\")\n",
    "        ax2.pcolormesh(np.linspace(-180, 180, 1441),np.linspace(25,75, 201), region_mask[clim_index], snap=True, alpha=0.1, cmap = \"Greys\")\n",
    "        \n",
    "        \n",
    "\n",
    "        (t2m_w_crop, year_c), (t2m_w_forest, year_f)= flatten_groups(t2m_winter, region_mask[clim_index], mask_crop=np.flip(mask_crop, axis=0), mask_forest = np.flip(mask_forest, axis=0))\n",
    "        # (tp_w_crop,_),(tp_w_forest, _) = flatten_groups(tp_winter, region_mask[clim_index], lu_mc_1)\n",
    "\n",
    "        print(t2m_w_crop.shape[0]/38)\n",
    "        print(t2m_w_forest.shape[0]/38)\n"
   ]
  },
  {
   "cell_type": "code",
   "execution_count": 37,
   "metadata": {},
   "outputs": [
    {
     "data": {
      "text/plain": [
       "(200, 1440)"
      ]
     },
     "execution_count": 37,
     "metadata": {},
     "output_type": "execute_result"
    }
   ],
   "source": [
    "mask_forest.shape"
   ]
  },
  {
   "cell_type": "code",
   "execution_count": 41,
   "metadata": {},
   "outputs": [
    {
     "data": {
      "text/plain": [
       "(200, 1440)"
      ]
     },
     "execution_count": 41,
     "metadata": {},
     "output_type": "execute_result"
    }
   ],
   "source": []
  },
  {
   "cell_type": "code",
   "execution_count": null,
   "metadata": {},
   "outputs": [],
   "source": []
  }
 ],
 "metadata": {
  "kernelspec": {
   "display_name": "pcv",
   "language": "python",
   "name": "python3"
  },
  "language_info": {
   "codemirror_mode": {
    "name": "ipython",
    "version": 3
   },
   "file_extension": ".py",
   "mimetype": "text/x-python",
   "name": "python",
   "nbconvert_exporter": "python",
   "pygments_lexer": "ipython3",
   "version": "3.10.4"
  },
  "orig_nbformat": 4
 },
 "nbformat": 4,
 "nbformat_minor": 2
}
