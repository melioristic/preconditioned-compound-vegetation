{
 "cells": [
  {
   "cell_type": "code",
   "execution_count": 22,
   "metadata": {},
   "outputs": [],
   "source": [
    "import xarray as xr\n",
    "import pandas as pd\n",
    "from datetime import datetime, timedelta\n",
    "import numpy as np\n",
    "import cftime\n",
    "import random\n",
    "import time"
   ]
  },
  {
   "cell_type": "code",
   "execution_count": 8,
   "metadata": {},
   "outputs": [],
   "source": [
    "from functools import wraps\n",
    "from time import time\n",
    "\n",
    "def timing(f):\n",
    "    @wraps(f)\n",
    "    def wrap(*args, **kw):\n",
    "        ts = time()\n",
    "        result = f(*args, **kw)\n",
    "        te = time()\n",
    "        print(f'func:{f.__name__} took: {(te-ts):2.4f} sec')\n",
    "        return result\n",
    "    return wrap"
   ]
  },
  {
   "cell_type": "code",
   "execution_count": 9,
   "metadata": {},
   "outputs": [],
   "source": [
    "def cftime_to_datetime64(date):\n",
    "    \"\"\"converting a cftime date into datetime64[D]\n",
    "    \n",
    "    Parameters:\n",
    "    -----\n",
    "    date: cftime\n",
    "    \"\"\"\n",
    "    if type(date) is cftime._cftime.DatetimeNoLeap:\n",
    "        return np.datetime64('{:0>4}'.format(str(date.year)) +'-'+ '{:0>2}'.format(str(date.month)) +'-'+ '{:0>2}'.format(str(date.day)),'D')\n",
    "    if type(date) is list or type(date) is np.ndarray:\n",
    "        output = []\n",
    "        for t in date:\n",
    "            output.append(np.datetime64('{:0>4}'.format(str(t.year)) +'-'+ '{:0>2}'.format(str(t.month)) +'-'+ '{:0>2}'.format(str(t.day)),'D'))\n",
    "        return output"
   ]
  },
  {
   "cell_type": "code",
   "execution_count": 10,
   "metadata": {},
   "outputs": [],
   "source": [
    "def is_in_doy_range_single(time, reference,day_range):\n",
    "    \"\"\"Checks if time is in a symmetric range of a reference date\n",
    "    \n",
    "    Parameters\n",
    "    -----\n",
    "    time: numpy.datetime64\n",
    "    reference: numpy.datetime64\n",
    "    day_range: int\n",
    "    \n",
    "    Returns\n",
    "    -----\n",
    "    True or False\n",
    "    \"\"\"\n",
    "\n",
    "    time = time.astype(datetime)\n",
    "\n",
    "\n",
    "    reference_max = (reference + day_range).astype(datetime)\n",
    "    reference_min = (reference - day_range).astype(datetime)\n",
    "\n",
    "    doy_time = time.timetuple().tm_yday\n",
    "    doy_reference_max = reference_max.timetuple().tm_yday\n",
    "    doy_reference_min = reference_min.timetuple().tm_yday\n",
    "\n",
    "    if doy_reference_min < doy_reference_max:\n",
    "        return doy_time in range(doy_reference_min,doy_reference_max)\n",
    "    if doy_reference_min > doy_reference_max:\n",
    "        return doy_time not in range(doy_reference_max, doy_reference_min)\n",
    "    return None"
   ]
  },
  {
   "cell_type": "code",
   "execution_count": 25,
   "metadata": {},
   "outputs": [],
   "source": [
    "def temporal_resampling(input_data, length,block_size,day_range):\n",
    "    strt_time = time.time()\n",
    "    \"\"\"Temporal resampling of spatiotemporal input data with samples of given blocksize drawn from a range around the day of year of each sample\n",
    "\n",
    "    Dates in the resampled dataset start with the 1000-01-01 for compatibility with most datetime formats downstream.\n",
    "    Cropping the spatiotemporal input data to just the desired region is advised for better performance.\n",
    "\n",
    "    Parameters:\n",
    "    -----\n",
    "    input_data: dict of xarray.core.dataset.Dataset\n",
    "        spatiotemporal input data, should already be cropped to the region of interest for good performance\n",
    "    length: int\n",
    "        length in years of the resampled timeseries\n",
    "    block_size: int\n",
    "        size of the blocks for resampling the data in days. For 1 each day will be resampled individually\n",
    "    day_range: int\n",
    "        number of days of year before and after which samples can be drawn from\n",
    "    \"\"\"\n",
    "    # dates = np.arange('1000-01-01', str(1000+length) + '-01-01', dtype='datetime64[D]')\n",
    "    dates = xr.cftime_range(start = '{:0>4}'.format(str(1000)), end = '{:0>4}'.format(str(1000+ length)), freq='D',calendar=\"noleap\")\n",
    "    print(time.time()-strt_time)\n",
    "    # the resulting samples will be stored in an dictionary with the same keys as the input dictionary\n",
    "    # for each key (= variable), the samples will be stored in a list of xarray datasets\n",
    "    samples = {}\n",
    "    for key in input_data:\n",
    "        samples[key] = []\n",
    "    print(time.time()-strt_time)\n",
    "    for i in range(0,dates.shape[0], block_size):\n",
    "        reference_date = cftime_to_datetime64(dates[i])\n",
    "        #select date from which the sample is drawn here so that it is the same for all variables\n",
    "        possible_resampling_dates = [t for t in input_data[list(input_data.keys())[0]].time.values if is_in_doy_range_single(t.astype('datetime64[D]'),reference_date.astype('datetime64[D]'), day_range)]\n",
    "        resampling_date = random.choice(possible_resampling_dates)\n",
    "        for key in input_data:\n",
    "            data = input_data[key]\n",
    "            #get the sample at the selected date for every variable\n",
    "            sample = data.sel(time = slice(resampling_date.astype('datetime64[D]'), resampling_date.astype('datetime64[D]') + block_size - 1))\n",
    "            #overwrite the time variable with the date in the resampled data\n",
    "            # sample = sample.assign_coords(time = np.arange(reference_date.astype('datetime64[D]'), reference_date.astype('datetime64[D]') + block_size,dtype='datetime64[D]'))\n",
    "            sample = sample.assign_coords(time = xr.cftime_range(dates[i], dates[i]+pd.Timedelta(block_size - 1,'D'),freq='D',calendar=\"noleap\" ))\n",
    "            \n",
    "            samples[key].append(sample)\n",
    "        print(i, time.time()-strt_time)\n",
    "    # merge the list of xarray datasets into a single one for each variable\n",
    "    # then clip the time so that the timeseries is exactly the requested size\n",
    "    for key in samples:\n",
    "        samples[key] = xr.concat(samples[key],'time')\n",
    "        #-1 as arrays in python start at 0, another -1 because xr.cftime_range include the end date (fist day of the following year) that we don't want\n",
    "        samples[key] = samples[key].sel(time = slice(dates[0],dates[len(dates) - 2]))\n",
    "    return samples"
   ]
  },
  {
   "cell_type": "code",
   "execution_count": 26,
   "metadata": {},
   "outputs": [],
   "source": [
    "def create_xarray_array():\n",
    "    data = np.random.rand(365*100, 3, 3)\n",
    "    lat = [\"A\", \"B\", \"C\"]\n",
    "    lon = [\"D\", \"E\", \"F\"]\n",
    "    times = pd.date_range(\"2000-01-01\", periods=365*100)\n",
    "    \n",
    "    return xr.DataArray(data, coords=[times, lon, lat], dims=[\"time\", \"lon\", \"lat\"])\n",
    "\n",
    "\n",
    "d1 = create_xarray_array()\n",
    "d2 = create_xarray_array()\n",
    "\n",
    "ds = {\"v1\":d1, \"v2\":d2}\n"
   ]
  },
  {
   "cell_type": "code",
   "execution_count": 27,
   "metadata": {},
   "outputs": [
    {
     "name": "stdout",
     "output_type": "stream",
     "text": [
      "0.0026793479919433594\n",
      "0.002718687057495117\n",
      "0.5387191772460938\n",
      "1.096721887588501\n",
      "1.6264169216156006\n",
      "2.1307477951049805\n",
      "2.6336848735809326\n",
      "3.155487060546875\n",
      "3.6746485233306885\n",
      "4.224005460739136\n",
      "4.7595436573028564\n",
      "5.289365530014038\n",
      "5.815620183944702\n",
      "6.339022159576416\n",
      "6.854413032531738\n",
      "7.407238960266113\n",
      "7.9238739013671875\n",
      "8.441747665405273\n",
      "8.94137167930603\n",
      "9.432208061218262\n",
      "9.927123308181763\n",
      "10.417320489883423\n",
      "10.913380146026611\n",
      "11.415900468826294\n",
      "11.915865659713745\n",
      "12.406394481658936\n",
      "12.89735722541809\n",
      "13.398726463317871\n",
      "13.908831596374512\n",
      "14.454302549362183\n",
      "14.966531038284302\n",
      "15.476618766784668\n",
      "15.982514142990112\n",
      "16.49166750907898\n",
      "17.00293254852295\n",
      "17.520163536071777\n",
      "18.037400722503662\n",
      "18.553720474243164\n",
      "19.0688579082489\n",
      "19.57499670982361\n",
      "20.089493989944458\n",
      "20.60432457923889\n",
      "21.114115953445435\n",
      "21.60800337791443\n",
      "22.10297727584839\n",
      "22.602726221084595\n",
      "23.10869002342224\n",
      "23.607749938964844\n",
      "24.106061220169067\n",
      "24.608056783676147\n",
      "25.104772090911865\n",
      "25.606059789657593\n",
      "26.107515573501587\n",
      "26.62037467956543\n",
      "27.134875774383545\n",
      "27.649656772613525\n",
      "28.15505051612854\n",
      "28.66447401046753\n",
      "29.154954433441162\n",
      "29.654705286026\n",
      "30.1595139503479\n",
      "30.65122365951538\n",
      "31.153562307357788\n",
      "31.667768955230713\n",
      "32.180071115493774\n",
      "32.69616770744324\n",
      "33.216394901275635\n",
      "33.72861909866333\n",
      "34.24114680290222\n",
      "34.752031564712524\n",
      "35.26747369766235\n",
      "35.779273986816406\n",
      "36.277199506759644\n",
      "36.7863564491272\n",
      "37.289167642593384\n",
      "37.78383421897888\n"
     ]
    }
   ],
   "source": [
    "resampled = temporal_resampling(input_data = ds,length = 2,block_size =10, day_range = 20)"
   ]
  },
  {
   "cell_type": "code",
   "execution_count": 48,
   "metadata": {},
   "outputs": [],
   "source": [
    "def new_temporal_resampling(xarray_arr ,block_size =10, day_range = 20 ):\n",
    "    xarray_arr = xarray_arr.sortby(\"time\")\n",
    "    \n",
    "    for i in range(0,365,10):\n",
    "        \n",
    "    "
   ]
  },
  {
   "cell_type": "code",
   "execution_count": 49,
   "metadata": {},
   "outputs": [
    {
     "name": "stdout",
     "output_type": "stream",
     "text": [
      "[]\n"
     ]
    }
   ],
   "source": [
    "new_temporal_resampling(d1)"
   ]
  },
  {
   "cell_type": "code",
   "execution_count": 51,
   "metadata": {},
   "outputs": [
    {
     "data": {
      "text/plain": [
       "129"
      ]
     },
     "execution_count": 51,
     "metadata": {},
     "output_type": "execute_result"
    }
   ],
   "source": [
    "d1[\"time\"].values[-1].astype('datetime64[Y]').astype(int)"
   ]
  },
  {
   "cell_type": "code",
   "execution_count": 55,
   "metadata": {},
   "outputs": [
    {
     "data": {
      "text/plain": [
       "numpy.datetime64('2099')"
      ]
     },
     "execution_count": 55,
     "metadata": {},
     "output_type": "execute_result"
    }
   ],
   "source": [
    "d1[\"time\"].values[-1].astype('datetime64[Y]')"
   ]
  },
  {
   "cell_type": "code",
   "execution_count": null,
   "metadata": {},
   "outputs": [],
   "source": []
  }
 ],
 "metadata": {
  "kernelspec": {
   "display_name": "Python 3.10.4 ('pcv')",
   "language": "python",
   "name": "python3"
  },
  "language_info": {
   "codemirror_mode": {
    "name": "ipython",
    "version": 3
   },
   "file_extension": ".py",
   "mimetype": "text/x-python",
   "name": "python",
   "nbconvert_exporter": "python",
   "pygments_lexer": "ipython3",
   "version": "3.10.4"
  },
  "orig_nbformat": 4,
  "vscode": {
   "interpreter": {
    "hash": "696a8c551f37a01ecb4b96237b841ba5bd06eadec90897a14addfd9397a17661"
   }
  }
 },
 "nbformat": 4,
 "nbformat_minor": 2
}
