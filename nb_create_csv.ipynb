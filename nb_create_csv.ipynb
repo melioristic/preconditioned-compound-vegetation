{
 "cells": [
  {
   "cell_type": "code",
   "execution_count": 2,
   "metadata": {},
   "outputs": [],
   "source": [
    "import xarray as xr\n",
    "import numpy as np\n",
    "import os"
   ]
  },
  {
   "cell_type": "code",
   "execution_count": 16,
   "metadata": {},
   "outputs": [],
   "source": [
    "xtreme = \"low\"\n",
    "vegetation_type = \"forest\"\n",
    "ds_path = \"/data/compoundx/anand/PCV/data/\""
   ]
  },
  {
   "cell_type": "code",
   "execution_count": 17,
   "metadata": {},
   "outputs": [],
   "source": [
    "region_list = [i for i in os.listdir(f\"{ds_path}{vegetation_type}_data/{xtreme}\") if \".nc\" in i]"
   ]
  },
  {
   "cell_type": "code",
   "execution_count": 18,
   "metadata": {},
   "outputs": [
    {
     "name": "stdout",
     "output_type": "stream",
     "text": [
      "forest_E.North-America_v0.nc\n",
      "forest_E.Europe_v0.nc\n",
      "forest_Mediterranean_v0.nc\n",
      "forest_W.Siberia_v0.nc\n",
      "forest_Tibetan-Plateau_v0.nc\n",
      "forest_West&Central-Europe_v0.nc\n",
      "forest_N.E.North-America_v0.nc\n",
      "forest_Russian-Arctic_v0.nc\n",
      "forest_Russian-Far-East_v0.nc\n",
      "forest_C.North-America_v0.nc\n",
      "forest_N.Europe_v0.nc\n",
      "forest_E.Siberia_v0.nc\n",
      "forest_W.North-America_v0.nc\n",
      "forest_S.Asia_v0.nc\n",
      "forest_E.Asia_v0.nc\n",
      "forest_N.Central-America_v0.nc\n",
      "forest_E.C.Asia_v0.nc\n",
      "forest_N.W.North-America_v0.nc\n",
      "forest_W.C.Asia_v0.nc\n"
     ]
    }
   ],
   "source": [
    "for region in region_list:\n",
    "    data = xr.open_dataset(f\"/data/compoundx/anand/PCV/data/{vegetation_type}_data/{xtreme}/{region}\")\n",
    "    data = data.sortby(data.longitude).sortby(data.latitude).sortby(data.time)\n",
    "    data_flat = data.stack(point =(\"latitude\", \"longitude\", \"time\"))\n",
    "    data_flat = data_flat.dropna(dim=\"point\", how=\"any\")\n",
    "    var_list = list(data_flat.keys())\n",
    "\n",
    "    data_list = []\n",
    "    for i, var in enumerate(var_list):\n",
    "\n",
    "        data_i = data_flat[var]\n",
    "        if i < len(var_list)-1:\n",
    "            assert (data_i.time == data_flat[var_list[i+1]].dropna(dim = \"point\", how=\"all\").time).all().values == True\n",
    "\n",
    "        if i==0:\n",
    "            data_list.append(data_i.time.values)\n",
    "        data_list.append(data_i.values)\n",
    "\n",
    "    data_arr = np.vstack(data_list).T\n",
    "    data_arr[~np.isnan(data_arr).any(axis=1)]\n",
    "    header = \"year\\t\"\n",
    "    header = header + (\"\\t\".join(var_list))\n",
    "    np.savetxt(f\"{ds_path}{vegetation_type}_data/{xtreme}/\"+f\"{region[:-6]}_v7.csv\", data_arr, header=header, fmt='%1.3f', delimiter=\"\\t\")\n",
    "    print(region)\n"
   ]
  },
  {
   "cell_type": "code",
   "execution_count": null,
   "metadata": {},
   "outputs": [],
   "source": []
  }
 ],
 "metadata": {
  "kernelspec": {
   "display_name": "pcv",
   "language": "python",
   "name": "python3"
  },
  "language_info": {
   "codemirror_mode": {
    "name": "ipython",
    "version": 3
   },
   "file_extension": ".py",
   "mimetype": "text/x-python",
   "name": "python",
   "nbconvert_exporter": "python",
   "pygments_lexer": "ipython3",
   "version": "3.10.4"
  }
 },
 "nbformat": 4,
 "nbformat_minor": 2
}
